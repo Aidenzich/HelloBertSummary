{
 "cells": [
  {
   "cell_type": "code",
   "execution_count": 1,
   "metadata": {},
   "outputs": [
    {
     "name": "stderr",
     "output_type": "stream",
     "text": [
      "/home/aiden/miniconda3/envs/summary/lib/python3.7/site-packages/tqdm/auto.py:22: TqdmWarning: IProgress not found. Please update jupyter and ipywidgets. See https://ipywidgets.readthedocs.io/en/stable/user_install.html\n",
      "  from .autonotebook import tqdm as notebook_tqdm\n"
     ]
    }
   ],
   "source": [
    "from summarizer import Summarizer\n",
    "from summarizer.text_processors.sentence_handler import SentenceHandler\n",
    "from transformers import AutoModel, AutoTokenizer, AutoConfig\n",
    "from spacy.lang.zh import Chinese"
   ]
  },
  {
   "cell_type": "code",
   "execution_count": 2,
   "metadata": {},
   "outputs": [
    {
     "name": "stderr",
     "output_type": "stream",
     "text": [
      "Some weights of the model checkpoint at bert-base-chinese were not used when initializing BertModel: ['cls.predictions.bias', 'cls.predictions.decoder.weight', 'cls.predictions.transform.dense.bias', 'cls.seq_relationship.weight', 'cls.seq_relationship.bias', 'cls.predictions.transform.LayerNorm.bias', 'cls.predictions.transform.dense.weight', 'cls.predictions.transform.LayerNorm.weight']\n",
      "- This IS expected if you are initializing BertModel from the checkpoint of a model trained on another task or with another architecture (e.g. initializing a BertForSequenceClassification model from a BertForPreTraining model).\n",
      "- This IS NOT expected if you are initializing BertModel from the checkpoint of a model that you expect to be exactly identical (initializing a BertForSequenceClassification model from a BertForSequenceClassification model).\n"
     ]
    }
   ],
   "source": [
    "# Load model, model config and tokenizer via Transformers\n",
    "modelName = \"bert-base-chinese\" \n",
    "custom_config = AutoConfig.from_pretrained(modelName)\n",
    "custom_config.output_hidden_states=True\n",
    "custom_tokenizer = AutoTokenizer.from_pretrained(modelName)\n",
    "custom_model = AutoModel.from_pretrained(modelName, config=custom_config)\n",
    "\n",
    "model = Summarizer(\n",
    "    custom_model=custom_model, \n",
    "    custom_tokenizer=custom_tokenizer,\n",
    "    sentence_handler = SentenceHandler(language=Chinese)\n",
    "    )"
   ]
  },
  {
   "cell_type": "code",
   "execution_count": 3,
   "metadata": {},
   "outputs": [
    {
     "name": "stdout",
     "output_type": "stream",
     "text": [
      "huggingface/tokenizers: The current process just got forked, after parallelism has already been used. Disabling parallelism to avoid deadlocks...\n",
      "To disable this warning, you can either:\n",
      "\t- Avoid using `tokenizers` before the fork if possible\n",
      "\t- Explicitly set the environment variable TOKENIZERS_PARALLELISM=(true | false)\n",
      "119\n",
      "國民黨副總統候選人張善政昨日公開指行政院長蘇貞昌住院,並稱「老天有眼,很快就會讓他住回醫院去」等語,遭行政院駁斥假訊息。 蘇巧慧也說,就算張善政有道歉,這個社會也已撕裂了,因為他的支持者為了維護候選人,也用更激烈的言論攻防,傷害已經造成。\n"
     ]
    }
   ],
   "source": [
    "body = \"國民黨副總統候選人張善政昨日公開指行政院長蘇貞昌住院,並稱「老天有眼,很快就會讓他住回醫院去」等語,遭行政院駁斥假訊息。蘇貞昌長女、立委蘇巧慧今(28)日也表示,張善政發言已超過社會底線,就算他道歉,社會也已經撕裂、傷害已經造成。 蘇巧慧受訪時表示,每個人都有父母,做子女的看到爸爸在公開場合被別人詛咒式的發言、嘲諷,其他人哄堂大笑、拍手叫好,心情非常非常難過。 蘇巧慧說,台灣社會有一個底線,選舉可以有攻防,但是不會對對方的健康和生命,做這樣的惡質發言,這已經超過了底線,未來台灣要選擇怎樣的國家領導人,大家真的要睜大眼睛好好看看。 蘇巧慧說,父親就是過度勞累,面部神經短暫麻痺,對體能沒有影響,所以休息一天就回到行政院上班,上個禮拜院會影片也都公開給大家看,甚至今早已到政院主持院會了;她不懂為什麼這樣子公開資訊,張善政還可以造謠住院,非常非常不適當。 蘇巧慧也說,就算張善政有道歉,這個社會也已撕裂了,因為他的支持者為了維護候選人,也用更激烈的言論攻防,傷害已經造成。 媒體詢問是否會提告?蘇巧慧說,這不是提不提告的問題,傷害已經在這裡,就算提告也依然會存在,而且看出來的是,候選人本身人品的問題,他是不是適合坐在這樣的高位?大家真的應該好好想一想。 至於蘇貞昌本人心情,蘇巧慧表示可能比她好一些,父親從政這麼多年,面對這樣的攻擊習以為常,所以反而是父親叫她說不要太在意,他還是會盡全力衝衝衝。 除了蘇巧慧以外,昨天稱張善政是「政客墮落的血淋淋個案」的蔡英文競選文宣群副執行長林鶴明,今天上午也繼續指出,請張善政拿出道德勇氣道歉,知錯能改至少會獲得肯定,但如果只是出來辯解和說一些言不由衷的前提,那張善政就是讓年輕人對國民黨越來越失望的元兇之一。\"\n",
    "\n",
    "result = model(body, ratio=0.30, max_length=100)\n",
    "full = ''.join(result)\n",
    "print(full)"
   ]
  }
 ],
 "metadata": {
  "interpreter": {
   "hash": "644bc524e58d4fff1ea7318b238e38c19ef88d6803cb557ae48c3c57f4becada"
  },
  "kernelspec": {
   "display_name": "Python 3.7.13 ('summary')",
   "language": "python",
   "name": "python3"
  },
  "language_info": {
   "codemirror_mode": {
    "name": "ipython",
    "version": 3
   },
   "file_extension": ".py",
   "mimetype": "text/x-python",
   "name": "python",
   "nbconvert_exporter": "python",
   "pygments_lexer": "ipython3",
   "version": "3.7.13"
  },
  "orig_nbformat": 4
 },
 "nbformat": 4,
 "nbformat_minor": 2
}
